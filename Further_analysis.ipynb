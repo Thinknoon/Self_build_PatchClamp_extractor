{
 "cells": [
  {
   "cell_type": "code",
   "execution_count": 2,
   "metadata": {},
   "outputs": [],
   "source": [
    "from fp_extractor_visuialization import plot_w_style\n",
    "from fp_extractor_visuialization import build_fp_data\n",
    "import glob\n",
    "import os\n",
    "from pynwb import NWBHDF5IO\n",
    "import pandas as pd"
   ]
  },
  {
   "cell_type": "code",
   "execution_count": 3,
   "metadata": {},
   "outputs": [],
   "source": [
    "import matplotlib.pyplot as plt"
   ]
  },
  {
   "cell_type": "code",
   "execution_count": 4,
   "metadata": {},
   "outputs": [],
   "source": [
    "import numpy as np\n",
    "import pynwb"
   ]
  },
  {
   "cell_type": "code",
   "execution_count": 5,
   "metadata": {},
   "outputs": [],
   "source": [
    "axon_passed_check = pd.read_csv('./LIP_AXON/cell_metadata.csv',index_col=0)\n",
    "heka_passed_check = pd.read_csv('./LIP_HAKA/cell_metadata.csv',index_col=0)"
   ]
  },
  {
   "cell_type": "code",
   "execution_count": 7,
   "metadata": {},
   "outputs": [
    {
     "data": {
      "text/plain": [
       "pass_check\n",
       "Y         735\n",
       "Not FP    613\n",
       "N          72\n",
       "Name: count, dtype: int64"
      ]
     },
     "execution_count": 7,
     "metadata": {},
     "output_type": "execute_result"
    }
   ],
   "source": [
    "axon_passed_check['pass_check'].value_counts()"
   ]
  },
  {
   "cell_type": "code",
   "execution_count": 8,
   "metadata": {},
   "outputs": [
    {
     "data": {
      "text/plain": [
       "pass_check\n",
       "Y                 721\n",
       "Not FP            549\n",
       "N                 149\n",
       "build_fp_ERROR      7\n",
       "Name: count, dtype: int64"
      ]
     },
     "execution_count": 8,
     "metadata": {},
     "output_type": "execute_result"
    }
   ],
   "source": [
    "heka_passed_check['pass_check'].value_counts()"
   ]
  },
  {
   "cell_type": "code",
   "execution_count": null,
   "metadata": {},
   "outputs": [],
   "source": []
  },
  {
   "cell_type": "code",
   "execution_count": null,
   "metadata": {},
   "outputs": [],
   "source": []
  },
  {
   "cell_type": "code",
   "execution_count": 16,
   "metadata": {},
   "outputs": [],
   "source": [
    "axon_passed_check = pd.read_csv('./LIP_AXON/cell_metadata.csv',index_col=0)\n",
    "axon_passed_check.index = \"axon_\"+axon_passed_check.index \n",
    "axon_passed_check = axon_passed_check.loc[axon_passed_check['pass_check']=='Y',]\n",
    "heka_passed_check = pd.read_csv('./LIP_HAKA/cell_metadata.csv',index_col=0)\n",
    "heka_passed_check.index = \"haka_\"+heka_passed_check.index \n",
    "heka_passed_check = heka_passed_check.loc[heka_passed_check['pass_check']=='Y',]"
   ]
  },
  {
   "cell_type": "code",
   "execution_count": 17,
   "metadata": {},
   "outputs": [
    {
     "name": "stdout",
     "output_type": "stream",
     "text": [
      "ok\n"
     ]
    }
   ],
   "source": [
    "if sum(axon_passed_check.index.isin(heka_passed_check.index))>0:\n",
    "    print('some cells have the same name,checking and correct')\n",
    "else:\n",
    "    print('ok')"
   ]
  },
  {
   "cell_type": "code",
   "execution_count": 11,
   "metadata": {},
   "outputs": [
    {
     "data": {
      "text/plain": [
       "6"
      ]
     },
     "execution_count": 11,
     "metadata": {},
     "output_type": "execute_result"
    }
   ],
   "source": [
    "sum(axon_passed_check.index.isin(heka_passed_check.index))"
   ]
  },
  {
   "cell_type": "code",
   "execution_count": 20,
   "metadata": {},
   "outputs": [],
   "source": [
    "all_passed_check = pd.concat([axon_passed_check,heka_passed_check])"
   ]
  },
  {
   "cell_type": "code",
   "execution_count": 21,
   "metadata": {},
   "outputs": [
    {
     "data": {
      "text/html": [
       "<div>\n",
       "<style scoped>\n",
       "    .dataframe tbody tr th:only-of-type {\n",
       "        vertical-align: middle;\n",
       "    }\n",
       "\n",
       "    .dataframe tbody tr th {\n",
       "        vertical-align: top;\n",
       "    }\n",
       "\n",
       "    .dataframe thead th {\n",
       "        text-align: right;\n",
       "    }\n",
       "</style>\n",
       "<table border=\"1\" class=\"dataframe\">\n",
       "  <thead>\n",
       "    <tr style=\"text-align: right;\">\n",
       "      <th></th>\n",
       "      <th>file_path</th>\n",
       "      <th>pass_check</th>\n",
       "    </tr>\n",
       "  </thead>\n",
       "  <tbody>\n",
       "    <tr>\n",
       "      <th>axon_20200620PLIPS01C01-1series_1</th>\n",
       "      <td>LIP_AXON\\20200620PLIPS01C01\\20200620PLIPS01C01...</td>\n",
       "      <td>Y</td>\n",
       "    </tr>\n",
       "    <tr>\n",
       "      <th>axon_20200620PLIPS01C02-1series_2</th>\n",
       "      <td>LIP_AXON\\20200620PLIPS01C02\\20200620PLIPS01C02...</td>\n",
       "      <td>Y</td>\n",
       "    </tr>\n",
       "    <tr>\n",
       "      <th>axon_20200620PLIPS01C03-1series_2</th>\n",
       "      <td>LIP_AXON\\20200620PLIPS01C03\\20200620PLIPS01C03...</td>\n",
       "      <td>Y</td>\n",
       "    </tr>\n",
       "    <tr>\n",
       "      <th>axon_20200620PLIPS01C04-1series_2</th>\n",
       "      <td>LIP_AXON\\20200620PLIPS01C04\\20200620PLIPS01C04...</td>\n",
       "      <td>Y</td>\n",
       "    </tr>\n",
       "    <tr>\n",
       "      <th>axon_20200620PLIPS01C05-1series_2</th>\n",
       "      <td>LIP_AXON\\20200620PLIPS01C05\\20200620PLIPS01C05...</td>\n",
       "      <td>Y</td>\n",
       "    </tr>\n",
       "    <tr>\n",
       "      <th>...</th>\n",
       "      <td>...</td>\n",
       "      <td>...</td>\n",
       "    </tr>\n",
       "    <tr>\n",
       "      <th>haka_20220824HS02C04-1series_6</th>\n",
       "      <td>LIP_HAKA\\20220824HS02C04\\20220824HS02C04-1seri...</td>\n",
       "      <td>Y</td>\n",
       "    </tr>\n",
       "    <tr>\n",
       "      <th>haka_20220824HS02C04-1series_8</th>\n",
       "      <td>LIP_HAKA\\20220824HS02C04\\20220824HS02C04-1seri...</td>\n",
       "      <td>Y</td>\n",
       "    </tr>\n",
       "    <tr>\n",
       "      <th>haka_20220824HS02C06-1series_1</th>\n",
       "      <td>LIP_HAKA\\20220824HS02C06\\20220824HS02C06-1seri...</td>\n",
       "      <td>Y</td>\n",
       "    </tr>\n",
       "    <tr>\n",
       "      <th>haka_20220824HS02C06-1series_3</th>\n",
       "      <td>LIP_HAKA\\20220824HS02C06\\20220824HS02C06-1seri...</td>\n",
       "      <td>Y</td>\n",
       "    </tr>\n",
       "    <tr>\n",
       "      <th>haka_20220824HS02C07-1series_1</th>\n",
       "      <td>LIP_HAKA\\20220824HS02C07\\20220824HS02C07-1seri...</td>\n",
       "      <td>Y</td>\n",
       "    </tr>\n",
       "  </tbody>\n",
       "</table>\n",
       "<p>1456 rows × 2 columns</p>\n",
       "</div>"
      ],
      "text/plain": [
       "                                                                           file_path   \n",
       "axon_20200620PLIPS01C01-1series_1  LIP_AXON\\20200620PLIPS01C01\\20200620PLIPS01C01...  \\\n",
       "axon_20200620PLIPS01C02-1series_2  LIP_AXON\\20200620PLIPS01C02\\20200620PLIPS01C02...   \n",
       "axon_20200620PLIPS01C03-1series_2  LIP_AXON\\20200620PLIPS01C03\\20200620PLIPS01C03...   \n",
       "axon_20200620PLIPS01C04-1series_2  LIP_AXON\\20200620PLIPS01C04\\20200620PLIPS01C04...   \n",
       "axon_20200620PLIPS01C05-1series_2  LIP_AXON\\20200620PLIPS01C05\\20200620PLIPS01C05...   \n",
       "...                                                                              ...   \n",
       "haka_20220824HS02C04-1series_6     LIP_HAKA\\20220824HS02C04\\20220824HS02C04-1seri...   \n",
       "haka_20220824HS02C04-1series_8     LIP_HAKA\\20220824HS02C04\\20220824HS02C04-1seri...   \n",
       "haka_20220824HS02C06-1series_1     LIP_HAKA\\20220824HS02C06\\20220824HS02C06-1seri...   \n",
       "haka_20220824HS02C06-1series_3     LIP_HAKA\\20220824HS02C06\\20220824HS02C06-1seri...   \n",
       "haka_20220824HS02C07-1series_1     LIP_HAKA\\20220824HS02C07\\20220824HS02C07-1seri...   \n",
       "\n",
       "                                  pass_check  \n",
       "axon_20200620PLIPS01C01-1series_1          Y  \n",
       "axon_20200620PLIPS01C02-1series_2          Y  \n",
       "axon_20200620PLIPS01C03-1series_2          Y  \n",
       "axon_20200620PLIPS01C04-1series_2          Y  \n",
       "axon_20200620PLIPS01C05-1series_2          Y  \n",
       "...                                      ...  \n",
       "haka_20220824HS02C04-1series_6             Y  \n",
       "haka_20220824HS02C04-1series_8             Y  \n",
       "haka_20220824HS02C06-1series_1             Y  \n",
       "haka_20220824HS02C06-1series_3             Y  \n",
       "haka_20220824HS02C07-1series_1             Y  \n",
       "\n",
       "[1456 rows x 2 columns]"
      ]
     },
     "execution_count": 21,
     "metadata": {},
     "output_type": "execute_result"
    }
   ],
   "source": [
    "all_passed_check"
   ]
  },
  {
   "cell_type": "code",
   "execution_count": null,
   "metadata": {},
   "outputs": [],
   "source": []
  },
  {
   "cell_type": "code",
   "execution_count": null,
   "metadata": {},
   "outputs": [],
   "source": []
  },
  {
   "cell_type": "code",
   "execution_count": null,
   "metadata": {},
   "outputs": [],
   "source": []
  }
 ],
 "metadata": {
  "kernelspec": {
   "display_name": "Python 3 (ipykernel)",
   "language": "python",
   "name": "python3"
  },
  "language_info": {
   "codemirror_mode": {
    "name": "ipython",
    "version": 3
   },
   "file_extension": ".py",
   "mimetype": "text/x-python",
   "name": "python",
   "nbconvert_exporter": "python",
   "pygments_lexer": "ipython3",
   "version": "3.11.5"
  }
 },
 "nbformat": 4,
 "nbformat_minor": 4
}
